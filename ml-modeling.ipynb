{
 "cells": [
  {
   "cell_type": "code",
   "execution_count": 205,
   "metadata": {},
   "outputs": [],
   "source": [
    "import numpy as np\n",
    "import pandas as pd\n",
    "import matplotlib\n",
    "matplotlib.use('agg')\n",
    "\n",
    "pd.set_option('max_columns', 999)\n",
    "pd.set_option('max_rows', 250)\n",
    "\n",
    "import matplotlib.pyplot as plt\n",
    "import seaborn as sns\n",
    "\n",
    "# magic word for producing visualizations in notebook\n",
    "%matplotlib inline\n",
    "\n",
    "seed = 60611\n",
    "\n",
    "from sklearn.preprocessing import StandardScaler\n",
    "from sklearn.impute import SimpleImputer\n",
    "from sklearn.cluster import KMeans\n",
    "from sklearn.cluster import MiniBatchKMeans\n",
    "from sklearn.decomposition import PCA\n",
    "\n",
    "from sklearn.model_selection import StratifiedShuffleSplit\n",
    "from sklearn.model_selection import train_test_split\n",
    "\n",
    "from sklearn.linear_model import LogisticRegression\n",
    "from sklearn.metrics import roc_auc_score\n",
    "\n",
    "import time"
   ]
  },
  {
   "cell_type": "code",
   "execution_count": 130,
   "metadata": {},
   "outputs": [],
   "source": [
    "class ArvatoData:\n",
    "    \n",
    "    def __init__(self, attributes_data_location=None, azdias_data_location=None, customer_data_location=None):\n",
    "        self.attributes_data_location = attributes_data_location or 'data/DIAS Attributes - Values 2017.xlsx'\n",
    "        self.azdias_data_location = azdias_data_location or 'data/arvato_data/Udacity_AZDIAS_052018.csv'\n",
    "        self.customer_data_location = customer_data_location or 'data/arvato_data/Udacity_CUSTOMERS_052018.csv'\n",
    "        \n",
    "        self.data_prep_utils = {\n",
    "            'one_hot_enc_no_del': ['CAMEO_DEU_2015', 'D19_LETZTER_KAUF_BRANCHE', 'OST_WEST_KZ'],\n",
    "            'one_hot_enc_del': ['ANREDE_KZ']\n",
    "        }\n",
    "        \n",
    "        self.raw_data = dict()\n",
    "        self.prepped_data = dict()\n",
    "        \n",
    "    def only_named_columns(self, col):\n",
    "        \"\"\"\n",
    "        Removes columns from DataFrame while loaded that are unnamed\n",
    "        \"\"\"\n",
    "        return 'Unnamed' not in col\n",
    "            \n",
    "    def load_data(self, ignore_clean_cache=False):\n",
    "\n",
    "        # Attributes and Information\n",
    "        print('loading attribute data from {}'.format(self.attributes_data_location))\n",
    "        self.raw_data['attributes'] = pd.read_excel(self.attributes_data_location, header=1, usecols=self.only_named_columns)\n",
    "        self.raw_data['attributes'][['Attribute', 'Description']] = self.raw_data['attributes'][['Attribute', 'Description']].ffill()\n",
    "\n",
    "#         information = pd.read_excel('data/DIAS Information Levels - Attributes 2017.xlsx', header=1, usecols=only_named_columns)\n",
    "\n",
    "        print('loading azdias data from {}'.format(self.azdias_data_location))\n",
    "        self.raw_data['azdias'] = pd.read_csv(self.azdias_data_location, sep=';', usecols=self.only_named_columns)\n",
    "        print('loading customers data from {}'.format(self.customer_data_location))\n",
    "        self.raw_data['customers'] = pd.read_csv(self.customer_data_location, sep=';', usecols=self.only_named_columns)\n",
    "#         print('loading mailout test data')\n",
    "#         self.mailout_test = pd.read_csv('data/arvato_data/Udacity_MAILOUT_052018_TEST.csv', sep=';', usecols=only_named_columns)\n",
    "#         print('loading mailout training data')\n",
    "#         self.mailout_train = pd.read_csv('data/arvato_data/Udacity_MAILOUT_052018_TRAIN.csv', sep=';', usecols=only_named_columns)\n",
    "        print('Raw Data Loaded!')\n",
    "    \n",
    "    # Begin section of helper functions for data prep\n",
    "    def lookup_unknown_val(self, col, attributes):\n",
    "        try:\n",
    "            mask = (attributes['Attribute'] == col) & (attributes['Meaning'].str.startswith('unknown'))\n",
    "            unknown_val = attributes.loc[mask, 'Value']\n",
    "            split_string = unknown_val.astype(str).str.cat(sep=',')\n",
    "            \n",
    "            return [int(x) for x in split_string.split(',')]\n",
    "        except ValueError:\n",
    "            return []\n",
    "    \n",
    "    def replace_unknowns_with_nan(self, df, attributes):\n",
    "        for col in df.columns:\n",
    "            df.loc[:, col] = df[col].replace(self.lookup_unknown_val(col, attributes), np.nan)\n",
    "        return df\n",
    "    \n",
    "    def missing_percentages(self, df):\n",
    "        missing = pd.DataFrame(df.isna().sum() / df.shape[0]).reset_index()\n",
    "        missing.columns = ['Attribute', 'Missing']\n",
    "        return missing\n",
    "    \n",
    "    def remove_features_by_missingness(self, df, threshold=1):\n",
    "        missing = self.missing_percentages(df)\n",
    "        cols = missing.loc[missing['Missing'] > threshold, 'Attribute'].tolist()\n",
    "        return cols\n",
    "    \n",
    "    def safe_drop_columns(self, df, cols):\n",
    "        drop_cols = list(set(df.columns).intersection(set(cols)))\n",
    "        return df.drop(drop_cols, axis=1)\n",
    "    \n",
    "    def clean_columns_18_19(self, df):\n",
    "        columns = ['CAMEO_DEUG_2015', 'CAMEO_INTL_2015']\n",
    "        df[columns] = df.loc[:, columns].replace(['X', 'XX'], np.nan)\n",
    "        df[columns] = df.loc[:, columns].astype(float)\n",
    "        return df\n",
    "    \n",
    "    def one_hot_encode(self, df, col, drop_first=False):\n",
    "        dummies = pd.get_dummies(df[col], drop_first=drop_first)\n",
    "        df_list = [df.drop(col, axis=1), dummies]\n",
    "        return pd.concat(df_list, axis=1)\n",
    "        \n",
    "    def return_scaled_columns_list(self, df):\n",
    "        scaled, not_scaled = df.select_dtypes(exclude='uint8').columns.tolist(), df.select_dtypes(include='uint8').columns.tolist()\n",
    "        return scaled, not_scaled\n",
    "\n",
    "    def create_scaler(self, df):\n",
    "        scaled_col_list, non_scaled_col_list = self.return_scaled_columns_list(df)\n",
    "        scaler = StandardScaler()\n",
    "        scaler.fit(df[scaled_col_list])\n",
    "        return scaler\n",
    "    \n",
    "    def scale_dataframe(self, df, scaler):\n",
    "        scaled_col_list, non_scaled_col_list = self.return_scaled_columns_list(df)\n",
    "        scaled_df = scaler.transform(df[scaled_col_list])\n",
    "        return pd.DataFrame(np.hstack([scaled_df, df[non_scaled_col_list]]), columns=df.columns)\n",
    "\n",
    "    def create_imputer(self, df):\n",
    "        imputer = SimpleImputer(strategy='median')\n",
    "        imputer.fit(df)\n",
    "        return imputer\n",
    "    \n",
    "    def impute_values(self, df, imputer):\n",
    "        return pd.DataFrame(imputer.transform(df), columns=df.columns)\n",
    "    \n",
    "    def fit(self, reload_azdias=False):\n",
    "        \n",
    "        # lookup unknowns\n",
    "        self.raw_data['azdias'] = self.replace_unknowns_with_nan(self.raw_data['azdias'], self.raw_data['attributes'])\n",
    "        \n",
    "        # fix errors when loading\n",
    "        self.raw_data['azdias'] = self.clean_columns_18_19(self.raw_data['azdias'])\n",
    "        \n",
    "        # drop columns that we don't have an explanation for, but keep the one object column\n",
    "        drop_cols = list(set(self.raw_data['azdias'].columns) - set(self.raw_data['attributes']['Attribute'].unique()))\n",
    "        drop_cols.remove('D19_LETZTER_KAUF_BRANCHE')\n",
    "        \n",
    "        # find features that are missing too much data, drop them\n",
    "        missingness_cols = self.remove_features_by_missingness(self.raw_data['azdias'], 0.2)\n",
    "        missingness_cols.remove('D19_LETZTER_KAUF_BRANCHE')\n",
    "\n",
    "        drop_cols.extend(missingness_cols)\n",
    "        \n",
    "        self.data_prep_utils['column_mask'] = list(set(self.raw_data['azdias'].columns) - set(drop_cols))\n",
    "        self.raw_data['azdias'] = self.raw_data['azdias'][self.data_prep_utils['column_mask']]\n",
    "        \n",
    "        # one hot encode\n",
    "        self.raw_data['azdias'] = self.one_hot_encode(self.raw_data['azdias'], self.data_prep_utils['one_hot_enc_del'], True)\n",
    "        self.raw_data['azdias'] = self.one_hot_encode(self.raw_data['azdias'], self.data_prep_utils['one_hot_enc_no_del'], False)\n",
    "        \n",
    "        # scale\n",
    "        scaler = self.create_scaler(self.raw_data['azdias'])\n",
    "        self.data_prep_utils['scaler'] = scaler\n",
    "\n",
    "        self.raw_data['azdias'] = self.scale_dataframe(self.raw_data['azdias'], self.data_prep_utils['scaler'])\n",
    "        \n",
    "        # impute\n",
    "        imputer = self.create_imputer(self.raw_data['azdias'])\n",
    "        self.data_prep_utils['imputer'] = imputer\n",
    "\n",
    "        self.raw_data['azdias'] = self.impute_values(self.raw_data['azdias'], self.data_prep_utils['imputer'])\n",
    "        \n",
    "        if reload_azdias:\n",
    "            print('loading azdias data from {}'.format(self.azdias_data_location))\n",
    "            self.raw_data['azdias'] = pd.read_csv(self.azdias_data_location, sep=';', usecols=self.only_named_columns)\n",
    "            print('Finished reloading azdias!')\n",
    "        \n",
    "    def transform(self, df):\n",
    "        \n",
    "        # lookup unknowns\n",
    "        print('Replacing unknowns...')\n",
    "        df = self.replace_unknowns_with_nan(df, self.raw_data['attributes'])\n",
    "        \n",
    "        # fix errors when loading\n",
    "        print('Fixing columns 18 and 19...')\n",
    "        df = self.clean_columns_18_19(df)\n",
    "        \n",
    "        # drop columns not in azdias prep\n",
    "        print('Remove extraneous columns')\n",
    "        df = df[self.data_prep_utils['column_mask']]\n",
    "        \n",
    "        # one hot encode\n",
    "        print('One Hot Encode...')\n",
    "        df = self.one_hot_encode(df, self.data_prep_utils['one_hot_enc_del'], True)\n",
    "        df = self.one_hot_encode(df, self.data_prep_utils['one_hot_enc_no_del'], False)\n",
    "        \n",
    "        # scale\n",
    "        print('Scaling...')\n",
    "        df = self.scale_dataframe(df, self.data_prep_utils['scaler'])\n",
    "        \n",
    "        # impute\n",
    "        print('Imputing...')\n",
    "        df = self.impute_values(df, self.data_prep_utils['imputer'])\n",
    "        \n",
    "        return df\n",
    "    "
   ]
  },
  {
   "cell_type": "code",
   "execution_count": 131,
   "metadata": {},
   "outputs": [],
   "source": [
    "a = ArvatoData()"
   ]
  },
  {
   "cell_type": "code",
   "execution_count": 132,
   "metadata": {},
   "outputs": [
    {
     "name": "stdout",
     "output_type": "stream",
     "text": [
      "loading attribute data from data/DIAS Attributes - Values 2017.xlsx\n",
      "loading azdias data from data/arvato_data/Udacity_AZDIAS_052018.csv\n"
     ]
    },
    {
     "name": "stderr",
     "output_type": "stream",
     "text": [
      "/home/patrick/miniconda3/lib/python3.7/site-packages/IPython/core/interactiveshell.py:3263: DtypeWarning: Columns (18,19) have mixed types.Specify dtype option on import or set low_memory=False.\n",
      "  if (await self.run_code(code, result,  async_=asy)):\n"
     ]
    },
    {
     "name": "stdout",
     "output_type": "stream",
     "text": [
      "loading customers data from data/arvato_data/Udacity_CUSTOMERS_052018.csv\n",
      "Raw Data Loaded!\n"
     ]
    }
   ],
   "source": [
    "a.load_data()"
   ]
  },
  {
   "cell_type": "code",
   "execution_count": 133,
   "metadata": {},
   "outputs": [
    {
     "data": {
      "text/plain": [
       "891221"
      ]
     },
     "execution_count": 133,
     "metadata": {},
     "output_type": "execute_result"
    }
   ],
   "source": [
    "a.raw_data['azdias'].shape[0]"
   ]
  },
  {
   "cell_type": "code",
   "execution_count": 134,
   "metadata": {},
   "outputs": [],
   "source": [
    "a.fit()"
   ]
  },
  {
   "cell_type": "code",
   "execution_count": 135,
   "metadata": {},
   "outputs": [
    {
     "data": {
      "text/plain": [
       "891221"
      ]
     },
     "execution_count": 135,
     "metadata": {},
     "output_type": "execute_result"
    }
   ],
   "source": [
    "a.raw_data['azdias'].shape[0]"
   ]
  },
  {
   "cell_type": "code",
   "execution_count": 136,
   "metadata": {},
   "outputs": [
    {
     "name": "stderr",
     "output_type": "stream",
     "text": [
      "/home/patrick/miniconda3/lib/python3.7/site-packages/IPython/core/interactiveshell.py:3072: DtypeWarning: Columns (18,19) have mixed types.Specify dtype option on import or set low_memory=False.\n",
      "  interactivity=interactivity, compiler=compiler, result=result)\n"
     ]
    }
   ],
   "source": [
    "mailout_test = pd.read_csv('data/arvato_data/Udacity_MAILOUT_052018_TEST.csv', sep=';')\n",
    "\n",
    "mailout_train = pd.read_csv('data/arvato_data/Udacity_MAILOUT_052018_TRAIN.csv', sep=';')"
   ]
  },
  {
   "cell_type": "code",
   "execution_count": 137,
   "metadata": {},
   "outputs": [],
   "source": [
    "y = mailout_train[['RESPONSE']]\n",
    "X = mailout_train.drop('RESPONSE', axis=1)"
   ]
  },
  {
   "cell_type": "code",
   "execution_count": 215,
   "metadata": {},
   "outputs": [],
   "source": [
    "X_train, X_test, y_train, y_test = train_test_split(X, y, test_size=.3, stratify=y, random_state=seed)"
   ]
  },
  {
   "cell_type": "code",
   "execution_count": 216,
   "metadata": {},
   "outputs": [],
   "source": [
    "X_test, X_val, y_test, y_val = train_test_split(X_test, y_test, test_size=.33, stratify=y_test, random_state=seed)"
   ]
  },
  {
   "cell_type": "code",
   "execution_count": 217,
   "metadata": {},
   "outputs": [
    {
     "data": {
      "text/plain": [
       "<matplotlib.axes._subplots.AxesSubplot at 0x7fc587ab0810>"
      ]
     },
     "execution_count": 217,
     "metadata": {},
     "output_type": "execute_result"
    },
    {
     "data": {
      "image/png": "[encoded data removed]",
      "text/plain": [
       "<Figure size 432x288 with 1 Axes>"
      ]
     },
     "metadata": {
      "needs_background": "light"
     },
     "output_type": "display_data"
    }
   ],
   "source": [
    "sns.countplot(data=mailout_train, x='RESPONSE')"
   ]
  },
  {
   "cell_type": "markdown",
   "metadata": {},
   "source": [
    "Probably will use AUC to start, that's a good metric for classification"
   ]
  },
  {
   "cell_type": "code",
   "execution_count": 218,
   "metadata": {},
   "outputs": [
    {
     "data": {
      "text/plain": [
       "30073"
      ]
     },
     "execution_count": 218,
     "metadata": {},
     "output_type": "execute_result"
    }
   ],
   "source": [
    "X_train.shape[0]"
   ]
  },
  {
   "cell_type": "code",
   "execution_count": 219,
   "metadata": {},
   "outputs": [
    {
     "name": "stdout",
     "output_type": "stream",
     "text": [
      "Replacing unknowns...\n"
     ]
    },
    {
     "name": "stderr",
     "output_type": "stream",
     "text": [
      "/home/patrick/miniconda3/lib/python3.7/site-packages/pandas/core/indexing.py:966: SettingWithCopyWarning: \n",
      "A value is trying to be set on a copy of a slice from a DataFrame.\n",
      "Try using .loc[row_indexer,col_indexer] = value instead\n",
      "\n",
      "See the caveats in the documentation: https://pandas.pydata.org/pandas-docs/stable/user_guide/indexing.html#returning-a-view-versus-a-copy\n",
      "  self.obj[item] = s\n"
     ]
    },
    {
     "name": "stdout",
     "output_type": "stream",
     "text": [
      "Fixing columns 18 and 19...\n",
      "Remove extraneous columns\n",
      "One Hot Encode...\n",
      "Scaling...\n",
      "Imputing...\n"
     ]
    },
    {
     "name": "stderr",
     "output_type": "stream",
     "text": [
      "/home/patrick/miniconda3/lib/python3.7/site-packages/pandas/core/frame.py:2963: SettingWithCopyWarning: \n",
      "A value is trying to be set on a copy of a slice from a DataFrame.\n",
      "Try using .loc[row_indexer,col_indexer] = value instead\n",
      "\n",
      "See the caveats in the documentation: https://pandas.pydata.org/pandas-docs/stable/user_guide/indexing.html#returning-a-view-versus-a-copy\n",
      "  self[k1] = value[k2]\n"
     ]
    }
   ],
   "source": [
    "X_train_clean = a.transform(X_train)"
   ]
  },
  {
   "cell_type": "code",
   "execution_count": 220,
   "metadata": {},
   "outputs": [],
   "source": [
    "lr = LogisticRegression(max_iter=1000, random_state=seed)"
   ]
  },
  {
   "cell_type": "code",
   "execution_count": 221,
   "metadata": {},
   "outputs": [
    {
     "data": {
      "text/plain": [
       "LogisticRegression(C=1.0, class_weight=None, dual=False, fit_intercept=True,\n",
       "                   intercept_scaling=1, l1_ratio=None, max_iter=1000,\n",
       "                   multi_class='auto', n_jobs=None, penalty='l2',\n",
       "                   random_state=60611, solver='lbfgs', tol=0.0001, verbose=0,\n",
       "                   warm_start=False)"
      ]
     },
     "execution_count": 221,
     "metadata": {},
     "output_type": "execute_result"
    }
   ],
   "source": [
    "lr.fit(X_train_clean.values, y_train.values.ravel())"
   ]
  },
  {
   "cell_type": "code",
   "execution_count": 222,
   "metadata": {},
   "outputs": [
    {
     "name": "stdout",
     "output_type": "stream",
     "text": [
      "Replacing unknowns...\n",
      "Fixing columns 18 and 19...\n",
      "Remove extraneous columns\n",
      "One Hot Encode...\n",
      "Scaling...\n",
      "Imputing...\n"
     ]
    }
   ],
   "source": [
    "X_test_clean = a.transform(X_test)"
   ]
  },
  {
   "cell_type": "code",
   "execution_count": 223,
   "metadata": {},
   "outputs": [
    {
     "name": "stdout",
     "output_type": "stream",
     "text": [
      "Baseline logistic regression evaluation:\n",
      "\tTraining dataset: 0.7662547023325308\n",
      "\tTest dataset: 0.5759433466009714\n"
     ]
    }
   ],
   "source": [
    "baseline_lr_train = roc_auc_score(y_train, lr.predict_proba(X_train_clean)[:, 1])\n",
    "baseline_lr_test = roc_auc_score(y_test, lr.predict_proba(X_test_clean)[:, 1])\n",
    "print('Baseline logistic regression evaluation:')\n",
    "print(f'\\tTraining dataset: {baseline_lr_train}')\n",
    "print(f'\\tTest dataset: {baseline_lr_test}')"
   ]
  },
  {
   "cell_type": "code",
   "execution_count": 225,
   "metadata": {},
   "outputs": [],
   "source": [
    "import xgboost as xgb"
   ]
  },
  {
   "cell_type": "code",
   "execution_count": 226,
   "metadata": {},
   "outputs": [],
   "source": [
    "xgb_classifier = xgb.XGBClassifier(objective='binary:logistic', eval_metric='auc', random_state=seed)"
   ]
  },
  {
   "cell_type": "code",
   "execution_count": 229,
   "metadata": {},
   "outputs": [
    {
     "data": {
      "text/plain": [
       "XGBClassifier(base_score=0.5, booster='gbtree', colsample_bylevel=1,\n",
       "              colsample_bynode=1, colsample_bytree=1, eval_metric='auc',\n",
       "              gamma=0, gpu_id=-1, importance_type='gain',\n",
       "              interaction_constraints='', learning_rate=0.300000012,\n",
       "              max_delta_step=0, max_depth=6, min_child_weight=1, missing=nan,\n",
       "              monotone_constraints='()', n_estimators=100, n_jobs=0,\n",
       "              num_parallel_tree=1, objective='binary:logistic',\n",
       "              random_state=60611, reg_alpha=0, reg_lambda=1, scale_pos_weight=1,\n",
       "              subsample=1, tree_method='exact', validate_parameters=1,\n",
       "              verbosity=None)"
      ]
     },
     "execution_count": 229,
     "metadata": {},
     "output_type": "execute_result"
    }
   ],
   "source": [
    "xgb_classifier.fit(X_train_clean, y_train.values.ravel())"
   ]
  },
  {
   "cell_type": "code",
   "execution_count": 233,
   "metadata": {},
   "outputs": [
    {
     "data": {
      "text/plain": [
       "0.5320417842927531"
      ]
     },
     "execution_count": 233,
     "metadata": {},
     "output_type": "execute_result"
    }
   ],
   "source": [
    "roc_auc_score(y_test, xgb_classifier.predict_proba(X_test_clean)[:,1])"
   ]
  },
  {
   "cell_type": "code",
   "execution_count": null,
   "metadata": {},
   "outputs": [],
   "source": []
  }
 ],
 "metadata": {
  "kernelspec": {
   "display_name": "Python 3",
   "language": "python",
   "name": "python3"
  },
  "language_info": {
   "codemirror_mode": {
    "name": "ipython",
    "version": 3
   },
   "file_extension": ".py",
   "mimetype": "text/x-python",
   "name": "python",
   "nbconvert_exporter": "python",
   "pygments_lexer": "ipython3",
   "version": "3.7.7"
  }
 },
 "nbformat": 4,
 "nbformat_minor": 4
}
