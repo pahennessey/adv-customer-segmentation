{
 "cells": [
  {
   "cell_type": "code",
   "execution_count": 98,
   "metadata": {},
   "outputs": [],
   "source": [
    "import numpy as np\n",
    "import pandas as pd\n",
    "import matplotlib\n",
    "matplotlib.use('agg')\n",
    "\n",
    "pd.set_option('max_columns', 999)\n",
    "pd.set_option('max_rows', 250)\n",
    "\n",
    "import matplotlib.pyplot as plt\n",
    "import seaborn as sns\n",
    "\n",
    "# magic word for producing visualizations in notebook\n",
    "%matplotlib inline\n",
    "\n",
    "seed = 60611\n",
    "\n",
    "from sklearn.preprocessing import StandardScaler\n",
    "from sklearn.impute import SimpleImputer\n",
    "from sklearn.cluster import KMeans\n",
    "from sklearn.cluster import MiniBatchKMeans\n",
    "from sklearn.decomposition import PCA\n",
    "\n",
    "from sklearn.model_selection import StratifiedShuffleSplit\n",
    "from sklearn.model_selection import train_test_split\n",
    "from sklearn.model_selection import GridSearchCV\n",
    "\n",
    "from sklearn.linear_model import LogisticRegression\n",
    "from sklearn.metrics import roc_auc_score\n",
    "\n",
    "\n",
    "\n",
    "import time"
   ]
  },
  {
   "cell_type": "code",
   "execution_count": 63,
   "metadata": {},
   "outputs": [],
   "source": [
    "class ArvatoData:\n",
    "    \n",
    "    def __init__(self, attributes_data_location=None, azdias_data_location=None, customer_data_location=None):\n",
    "        self.attributes_data_location = attributes_data_location or 'data/DIAS Attributes - Values 2017.xlsx'\n",
    "        self.azdias_data_location = azdias_data_location or 'data/arvato_data/Udacity_AZDIAS_052018.csv'\n",
    "        self.customer_data_location = customer_data_location or 'data/arvato_data/Udacity_CUSTOMERS_052018.csv'\n",
    "        \n",
    "        self.data_prep_utils = {\n",
    "            'one_hot_enc_no_del': ['CAMEO_DEU_2015', 'D19_LETZTER_KAUF_BRANCHE', 'OST_WEST_KZ'],\n",
    "            'one_hot_enc_del': ['ANREDE_KZ']\n",
    "        }\n",
    "        \n",
    "        self.raw_data = dict()\n",
    "        self.prepped_data = dict()\n",
    "        \n",
    "    def only_named_columns(self, col):\n",
    "        \"\"\"\n",
    "        Removes columns from DataFrame while loaded that are unnamed\n",
    "        \"\"\"\n",
    "        return 'Unnamed' not in col\n",
    "            \n",
    "    def load_data(self, ignore_clean_cache=False):\n",
    "\n",
    "        # Attributes and Information\n",
    "        print('loading attribute data from {}'.format(self.attributes_data_location))\n",
    "        self.raw_data['attributes'] = pd.read_excel(self.attributes_data_location, header=1, usecols=self.only_named_columns)\n",
    "        self.raw_data['attributes'][['Attribute', 'Description']] = self.raw_data['attributes'][['Attribute', 'Description']].ffill()\n",
    "\n",
    "        print('loading azdias data from {}'.format(self.azdias_data_location))\n",
    "        self.raw_data['azdias'] = pd.read_csv(self.azdias_data_location, sep=';', usecols=self.only_named_columns)\n",
    "        print('loading customers data from {}'.format(self.customer_data_location))\n",
    "        self.raw_data['customers'] = pd.read_csv(self.customer_data_location, sep=';', usecols=self.only_named_columns)\n",
    "        print('Raw Data Loaded!')\n",
    "    \n",
    "    # Begin section of helper functions for data prep\n",
    "    def lookup_unknown_val(self, col, attributes):\n",
    "        try:\n",
    "            mask = (attributes['Attribute'] == col) & (attributes['Meaning'].str.startswith('unknown'))\n",
    "            unknown_val = attributes.loc[mask, 'Value']\n",
    "            split_string = unknown_val.astype(str).str.cat(sep=',')\n",
    "            \n",
    "            return [int(x) for x in split_string.split(',')]\n",
    "        except ValueError:\n",
    "            return []\n",
    "    \n",
    "    def replace_unknowns_with_nan(self, df, attributes):\n",
    "        for col in df.columns:\n",
    "            df.loc[:, col] = df[col].replace(self.lookup_unknown_val(col, attributes), np.nan)\n",
    "        return df\n",
    "    \n",
    "    def missing_percentages(self, df):\n",
    "        missing = pd.DataFrame(df.isna().sum() / df.shape[0]).reset_index()\n",
    "        missing.columns = ['Attribute', 'Missing']\n",
    "        return missing\n",
    "    \n",
    "    def remove_features_by_missingness(self, df, threshold=1):\n",
    "        missing = self.missing_percentages(df)\n",
    "        cols = missing.loc[missing['Missing'] > threshold, 'Attribute'].tolist()\n",
    "        return cols\n",
    "    \n",
    "    def safe_drop_columns(self, df, cols):\n",
    "        drop_cols = list(set(df.columns).intersection(set(cols)))\n",
    "        return df.drop(drop_cols, axis=1)\n",
    "    \n",
    "    def clean_columns_18_19(self, df):\n",
    "        columns = ['CAMEO_DEUG_2015', 'CAMEO_INTL_2015']\n",
    "        df[columns] = df.loc[:, columns].replace(['X', 'XX'], np.nan)\n",
    "        df[columns] = df.loc[:, columns].astype(float)\n",
    "        return df\n",
    "    \n",
    "    def one_hot_encode(self, df, col, drop_first=False):\n",
    "        dummies = pd.get_dummies(df[col], drop_first=drop_first)\n",
    "        df_list = [df.drop(col, axis=1), dummies]\n",
    "        return pd.concat(df_list, axis=1)\n",
    "        \n",
    "    def return_scaled_columns_list(self, df):\n",
    "        scaled, not_scaled = df.select_dtypes(exclude='uint8').columns.tolist(), df.select_dtypes(include='uint8').columns.tolist()\n",
    "        return scaled, not_scaled\n",
    "\n",
    "    def create_scaler(self, df):\n",
    "        scaled_col_list, non_scaled_col_list = self.return_scaled_columns_list(df)\n",
    "        scaler = StandardScaler()\n",
    "        scaler.fit(df[scaled_col_list])\n",
    "        return scaler\n",
    "    \n",
    "    def scale_dataframe(self, df, scaler):\n",
    "        scaled_col_list, non_scaled_col_list = self.return_scaled_columns_list(df)\n",
    "        scaled_df = scaler.transform(df[scaled_col_list])\n",
    "        return pd.DataFrame(np.hstack([scaled_df, df[non_scaled_col_list]]), columns=df.columns)\n",
    "\n",
    "    def create_imputer(self, df):\n",
    "        imputer = SimpleImputer(strategy='median')\n",
    "        imputer.fit(df)\n",
    "        return imputer\n",
    "    \n",
    "    def impute_values(self, df, imputer):\n",
    "        return pd.DataFrame(imputer.transform(df), columns=df.columns)\n",
    "    \n",
    "    def fit(self, reload_azdias=False):\n",
    "        \n",
    "        # lookup unknowns\n",
    "        self.raw_data['azdias'] = self.replace_unknowns_with_nan(self.raw_data['azdias'], self.raw_data['attributes'])\n",
    "        \n",
    "        # fix errors when loading\n",
    "        self.raw_data['azdias'] = self.clean_columns_18_19(self.raw_data['azdias'])\n",
    "        \n",
    "        # drop columns that we don't have an explanation for, but keep the one object column\n",
    "        drop_cols = list(set(self.raw_data['azdias'].columns) - set(self.raw_data['attributes']['Attribute'].unique()))\n",
    "        drop_cols.remove('D19_LETZTER_KAUF_BRANCHE')\n",
    "        \n",
    "        # find features that are missing too much data, drop them\n",
    "        missingness_cols = self.remove_features_by_missingness(self.raw_data['azdias'], 0.2)\n",
    "        missingness_cols.remove('D19_LETZTER_KAUF_BRANCHE')\n",
    "\n",
    "        drop_cols.extend(missingness_cols)\n",
    "        \n",
    "        self.data_prep_utils['column_mask'] = list(set(self.raw_data['azdias'].columns) - set(drop_cols))\n",
    "        self.raw_data['azdias'] = self.raw_data['azdias'][self.data_prep_utils['column_mask']]\n",
    "        \n",
    "        # one hot encode\n",
    "        self.raw_data['azdias'] = self.one_hot_encode(self.raw_data['azdias'], self.data_prep_utils['one_hot_enc_del'], True)\n",
    "        self.raw_data['azdias'] = self.one_hot_encode(self.raw_data['azdias'], self.data_prep_utils['one_hot_enc_no_del'], False)\n",
    "        \n",
    "        # scale\n",
    "        scaler = self.create_scaler(self.raw_data['azdias'])\n",
    "        self.data_prep_utils['scaler'] = scaler\n",
    "        self.raw_data['azdias'] = self.scale_dataframe(self.raw_data['azdias'], self.data_prep_utils['scaler'])\n",
    "        \n",
    "        # impute\n",
    "        imputer = self.create_imputer(self.raw_data['azdias'])\n",
    "        self.data_prep_utils['imputer'] = imputer\n",
    "        self.raw_data['azdias'] = self.impute_values(self.raw_data['azdias'], self.data_prep_utils['imputer'])\n",
    "        \n",
    "\n",
    "        if reload_azdias:\n",
    "            print('loading azdias data from {}'.format(self.azdias_data_location))\n",
    "            self.raw_data['azdias'] = pd.read_csv(self.azdias_data_location, sep=';', usecols=self.only_named_columns)\n",
    "            print('Finished reloading azdias!')\n",
    "        \n",
    "    def transform(self, df):\n",
    "        \n",
    "        # lookup unknowns\n",
    "        print('Replacing unknowns...')\n",
    "        df = self.replace_unknowns_with_nan(df, self.raw_data['attributes'])\n",
    "        \n",
    "        # fix errors when loading\n",
    "        print('Fixing columns 18 and 19...')\n",
    "        df = self.clean_columns_18_19(df)\n",
    "        \n",
    "        # drop columns not in azdias prep\n",
    "        print('Remove extraneous columns')\n",
    "        df = df[self.data_prep_utils['column_mask']]\n",
    "        \n",
    "        # one hot encode\n",
    "        print('One Hot Encode...')\n",
    "        df = self.one_hot_encode(df, self.data_prep_utils['one_hot_enc_del'], True)\n",
    "        df = self.one_hot_encode(df, self.data_prep_utils['one_hot_enc_no_del'], False)\n",
    "        \n",
    "        # scale\n",
    "        print('Scaling...')\n",
    "        df = self.scale_dataframe(df, self.data_prep_utils['scaler'])\n",
    "        \n",
    "        # impute\n",
    "        print('Imputing...')\n",
    "        df = self.impute_values(df, self.data_prep_utils['imputer'])\n",
    "        \n",
    "\n",
    "        return df\n",
    "    "
   ]
  },
  {
   "cell_type": "code",
   "execution_count": 64,
   "metadata": {},
   "outputs": [],
   "source": [
    "a = ArvatoData()"
   ]
  },
  {
   "cell_type": "code",
   "execution_count": 65,
   "metadata": {},
   "outputs": [
    {
     "name": "stdout",
     "output_type": "stream",
     "text": [
      "loading attribute data from data/DIAS Attributes - Values 2017.xlsx\n",
      "loading azdias data from data/arvato_data/Udacity_AZDIAS_052018.csv\n"
     ]
    },
    {
     "name": "stderr",
     "output_type": "stream",
     "text": [
      "/home/patrick/miniconda3/lib/python3.7/site-packages/IPython/core/interactiveshell.py:3263: DtypeWarning: Columns (18,19) have mixed types.Specify dtype option on import or set low_memory=False.\n",
      "  if (await self.run_code(code, result,  async_=asy)):\n"
     ]
    },
    {
     "name": "stdout",
     "output_type": "stream",
     "text": [
      "loading customers data from data/arvato_data/Udacity_CUSTOMERS_052018.csv\n",
      "Raw Data Loaded!\n"
     ]
    }
   ],
   "source": [
    "a.load_data()"
   ]
  },
  {
   "cell_type": "code",
   "execution_count": 66,
   "metadata": {},
   "outputs": [],
   "source": [
    "a.fit()"
   ]
  },
  {
   "cell_type": "code",
   "execution_count": 67,
   "metadata": {},
   "outputs": [
    {
     "name": "stderr",
     "output_type": "stream",
     "text": [
      "/home/patrick/miniconda3/lib/python3.7/site-packages/IPython/core/interactiveshell.py:3072: DtypeWarning: Columns (18,19) have mixed types.Specify dtype option on import or set low_memory=False.\n",
      "  interactivity=interactivity, compiler=compiler, result=result)\n"
     ]
    }
   ],
   "source": [
    "mailout_test = pd.read_csv('data/arvato_data/Udacity_MAILOUT_052018_TEST.csv', sep=';')\n",
    "\n",
    "mailout_train = pd.read_csv('data/arvato_data/Udacity_MAILOUT_052018_TRAIN.csv', sep=';')"
   ]
  },
  {
   "cell_type": "code",
   "execution_count": 68,
   "metadata": {},
   "outputs": [],
   "source": [
    "y = mailout_train[['RESPONSE']]\n",
    "X = mailout_train.drop('RESPONSE', axis=1)"
   ]
  },
  {
   "cell_type": "code",
   "execution_count": 102,
   "metadata": {},
   "outputs": [],
   "source": [
    "X_train, X_test, y_train, y_test = train_test_split(X, y, test_size=.3, stratify=y, random_state=seed)"
   ]
  },
  {
   "cell_type": "code",
   "execution_count": 103,
   "metadata": {},
   "outputs": [],
   "source": [
    "# X_test, X_val, y_test, y_val = train_test_split(X_test, y_test, test_size=.33, stratify=y_test, random_state=seed)"
   ]
  },
  {
   "cell_type": "code",
   "execution_count": 104,
   "metadata": {},
   "outputs": [
    {
     "data": {
      "text/plain": [
       "<matplotlib.axes._subplots.AxesSubplot at 0x7f6417eaecd0>"
      ]
     },
     "execution_count": 104,
     "metadata": {},
     "output_type": "execute_result"
    },
    {
     "data": {
      "image/png": "[encoded data removed]",
      "text/plain": [
       "<Figure size 432x288 with 1 Axes>"
      ]
     },
     "metadata": {
      "needs_background": "light"
     },
     "output_type": "display_data"
    }
   ],
   "source": [
    "sns.countplot(data=mailout_train, x='RESPONSE')"
   ]
  },
  {
   "cell_type": "markdown",
   "metadata": {},
   "source": [
    "Probably will use AUC to start, that's a good metric for classification"
   ]
  },
  {
   "cell_type": "code",
   "execution_count": 105,
   "metadata": {},
   "outputs": [
    {
     "name": "stdout",
     "output_type": "stream",
     "text": [
      "Replacing unknowns...\n"
     ]
    },
    {
     "name": "stderr",
     "output_type": "stream",
     "text": [
      "/home/patrick/miniconda3/lib/python3.7/site-packages/pandas/core/indexing.py:966: SettingWithCopyWarning: \n",
      "A value is trying to be set on a copy of a slice from a DataFrame.\n",
      "Try using .loc[row_indexer,col_indexer] = value instead\n",
      "\n",
      "See the caveats in the documentation: https://pandas.pydata.org/pandas-docs/stable/user_guide/indexing.html#returning-a-view-versus-a-copy\n",
      "  self.obj[item] = s\n"
     ]
    },
    {
     "name": "stdout",
     "output_type": "stream",
     "text": [
      "Fixing columns 18 and 19...\n",
      "Remove extraneous columns\n",
      "One Hot Encode...\n",
      "Scaling...\n"
     ]
    },
    {
     "name": "stderr",
     "output_type": "stream",
     "text": [
      "/home/patrick/miniconda3/lib/python3.7/site-packages/pandas/core/frame.py:2963: SettingWithCopyWarning: \n",
      "A value is trying to be set on a copy of a slice from a DataFrame.\n",
      "Try using .loc[row_indexer,col_indexer] = value instead\n",
      "\n",
      "See the caveats in the documentation: https://pandas.pydata.org/pandas-docs/stable/user_guide/indexing.html#returning-a-view-versus-a-copy\n",
      "  self[k1] = value[k2]\n"
     ]
    },
    {
     "name": "stdout",
     "output_type": "stream",
     "text": [
      "Imputing...\n"
     ]
    }
   ],
   "source": [
    "X_train_clean = a.transform(X_train)"
   ]
  },
  {
   "cell_type": "code",
   "execution_count": 106,
   "metadata": {},
   "outputs": [
    {
     "name": "stdout",
     "output_type": "stream",
     "text": [
      "Replacing unknowns...\n"
     ]
    },
    {
     "name": "stderr",
     "output_type": "stream",
     "text": [
      "/home/patrick/miniconda3/lib/python3.7/site-packages/pandas/core/indexing.py:966: SettingWithCopyWarning: \n",
      "A value is trying to be set on a copy of a slice from a DataFrame.\n",
      "Try using .loc[row_indexer,col_indexer] = value instead\n",
      "\n",
      "See the caveats in the documentation: https://pandas.pydata.org/pandas-docs/stable/user_guide/indexing.html#returning-a-view-versus-a-copy\n",
      "  self.obj[item] = s\n"
     ]
    },
    {
     "name": "stdout",
     "output_type": "stream",
     "text": [
      "Fixing columns 18 and 19...\n",
      "Remove extraneous columns\n",
      "One Hot Encode...\n",
      "Scaling...\n",
      "Imputing...\n"
     ]
    },
    {
     "name": "stderr",
     "output_type": "stream",
     "text": [
      "/home/patrick/miniconda3/lib/python3.7/site-packages/pandas/core/frame.py:2963: SettingWithCopyWarning: \n",
      "A value is trying to be set on a copy of a slice from a DataFrame.\n",
      "Try using .loc[row_indexer,col_indexer] = value instead\n",
      "\n",
      "See the caveats in the documentation: https://pandas.pydata.org/pandas-docs/stable/user_guide/indexing.html#returning-a-view-versus-a-copy\n",
      "  self[k1] = value[k2]\n"
     ]
    }
   ],
   "source": [
    "X_test_clean = a.transform(X_test)"
   ]
  },
  {
   "cell_type": "code",
   "execution_count": null,
   "metadata": {},
   "outputs": [],
   "source": [
    "y_train_vals, y_test_vals = y_train.values.ravel(), y_test.values.ravel()"
   ]
  },
  {
   "cell_type": "code",
   "execution_count": null,
   "metadata": {},
   "outputs": [],
   "source": []
  },
  {
   "cell_type": "code",
   "execution_count": 73,
   "metadata": {},
   "outputs": [],
   "source": [
    "lr = LogisticRegression(max_iter=1000, random_state=seed)"
   ]
  },
  {
   "cell_type": "code",
   "execution_count": 74,
   "metadata": {},
   "outputs": [
    {
     "data": {
      "text/plain": [
       "LogisticRegression(C=1.0, class_weight=None, dual=False, fit_intercept=True,\n",
       "                   intercept_scaling=1, l1_ratio=None, max_iter=1000,\n",
       "                   multi_class='auto', n_jobs=None, penalty='l2',\n",
       "                   random_state=60611, solver='lbfgs', tol=0.0001, verbose=0,\n",
       "                   warm_start=False)"
      ]
     },
     "execution_count": 74,
     "metadata": {},
     "output_type": "execute_result"
    }
   ],
   "source": [
    "lr.fit(X_train_clean.values, y_train.values.ravel())"
   ]
  },
  {
   "cell_type": "code",
   "execution_count": 75,
   "metadata": {},
   "outputs": [
    {
     "name": "stdout",
     "output_type": "stream",
     "text": [
      "Replacing unknowns...\n",
      "Fixing columns 18 and 19...\n",
      "Remove extraneous columns\n",
      "One Hot Encode...\n",
      "Scaling...\n",
      "Imputing...\n"
     ]
    }
   ],
   "source": []
  },
  {
   "cell_type": "code",
   "execution_count": 16,
   "metadata": {},
   "outputs": [
    {
     "name": "stdout",
     "output_type": "stream",
     "text": [
      "Baseline logistic regression evaluation:\n",
      "\tTraining dataset: 0.7662476427244584\n",
      "\tTest dataset: 0.5759159492205993\n"
     ]
    }
   ],
   "source": [
    "baseline_lr_train = roc_auc_score(y_train, lr.predict_proba(X_train_clean)[:, 1])\n",
    "baseline_lr_test = roc_auc_score(y_test, lr.predict_proba(X_test_clean)[:, 1])\n",
    "print('Baseline logistic regression evaluation:')\n",
    "print(f'\\tTraining dataset: {baseline_lr_train}')\n",
    "print(f'\\tTest dataset: {baseline_lr_test}')"
   ]
  },
  {
   "cell_type": "code",
   "execution_count": 30,
   "metadata": {},
   "outputs": [
    {
     "name": "stdout",
     "output_type": "stream",
     "text": [
      "Baseline logistic regression evaluation:\n",
      "\tTraining dataset: 0.7707915866125213\n",
      "\tTest dataset: 0.5833307762444986\n"
     ]
    }
   ],
   "source": [
    "baseline_lr_train = roc_auc_score(y_train, lr.predict_proba(X_train_clean)[:, 1])\n",
    "baseline_lr_test = roc_auc_score(y_test, lr.predict_proba(X_test_clean)[:, 1])\n",
    "print('Baseline logistic regression evaluation:')\n",
    "print(f'\\tTraining dataset: {baseline_lr_train}')\n",
    "print(f'\\tTest dataset: {baseline_lr_test}')"
   ]
  },
  {
   "cell_type": "code",
   "execution_count": 54,
   "metadata": {},
   "outputs": [
    {
     "name": "stdout",
     "output_type": "stream",
     "text": [
      "Baseline logistic regression evaluation:\n",
      "\tTraining dataset: 0.7699387316527122\n",
      "\tTest dataset: 0.5836409145903105\n"
     ]
    }
   ],
   "source": [
    "baseline_lr_train = roc_auc_score(y_train, lr.predict_proba(X_train_clean)[:, 1])\n",
    "baseline_lr_test = roc_auc_score(y_test, lr.predict_proba(X_test_clean)[:, 1])\n",
    "print('Baseline logistic regression evaluation:')\n",
    "print(f'\\tTraining dataset: {baseline_lr_train}')\n",
    "print(f'\\tTest dataset: {baseline_lr_test}')"
   ]
  },
  {
   "cell_type": "code",
   "execution_count": 80,
   "metadata": {},
   "outputs": [],
   "source": [
    "import xgboost as xgb"
   ]
  },
  {
   "cell_type": "code",
   "execution_count": 87,
   "metadata": {},
   "outputs": [],
   "source": [
    "xgb_classifier = xgb.XGBClassifier(objective='binary:logistic', eval_metric='auc', random_state=seed, n_jobs=-1)"
   ]
  },
  {
   "cell_type": "code",
   "execution_count": 88,
   "metadata": {},
   "outputs": [
    {
     "data": {
      "text/plain": [
       "XGBClassifier(base_score=0.5, booster='gbtree', colsample_bylevel=1,\n",
       "              colsample_bynode=1, colsample_bytree=1, eval_metric='auc',\n",
       "              gamma=0, gpu_id=-1, importance_type='gain',\n",
       "              interaction_constraints='', learning_rate=0.300000012,\n",
       "              max_delta_step=0, max_depth=6, min_child_weight=1, missing=nan,\n",
       "              monotone_constraints='()', n_estimators=100, n_jobs=-1,\n",
       "              num_parallel_tree=1, objective='binary:logistic',\n",
       "              random_state=60611, reg_alpha=0, reg_lambda=1, scale_pos_weight=1,\n",
       "              subsample=1, tree_method='exact', validate_parameters=1,\n",
       "              verbosity=None)"
      ]
     },
     "execution_count": 88,
     "metadata": {},
     "output_type": "execute_result"
    }
   ],
   "source": [
    "xgb_classifier.fit(X_train_clean, y_train.values.ravel())"
   ]
  },
  {
   "cell_type": "code",
   "execution_count": 97,
   "metadata": {},
   "outputs": [
    {
     "name": "stdout",
     "output_type": "stream",
     "text": [
      "0.9897335649608845\n",
      "0.5307815047956375\n"
     ]
    }
   ],
   "source": [
    "print(roc_auc_score(y_train, xgb_classifier.predict_proba(X_train_clean)[:,1]))\n",
    "print(roc_auc_score(y_test, xgb_classifier.predict_proba(X_test_clean)[:,1]))"
   ]
  },
  {
   "cell_type": "code",
   "execution_count": 100,
   "metadata": {},
   "outputs": [],
   "source": [
    "xgb_param_grid = {\"max_depth\": [5,10,20,30],\n",
    "              \"learning_rate\": [0.01,0.1,0.5,0.9,1.],\n",
    "              \"gamma\":[0.1,0.5,1.0],\n",
    "              \"n_estimators\":[50,100,150,200]\n",
    "              }\n",
    "\n",
    "est = xgb.XGBClassifier(objective=\"binary:logistic\", \n",
    "                        n_jobs=-1,\n",
    "                        eval_metric=\"auc\",\n",
    "                        silent=1,\n",
    "                        random_state=seed)\n",
    "xgb_grid = GridSearchCV(estimator = est, \n",
    "                        param_grid = xgb_param_grid, \n",
    "                        scoring = \"roc_auc\",\n",
    "                        cv = 5, n_jobs = -1, verbose=2)"
   ]
  },
  {
   "cell_type": "code",
   "execution_count": 101,
   "metadata": {},
   "outputs": [
    {
     "name": "stdout",
     "output_type": "stream",
     "text": [
      "Fitting 5 folds for each of 240 candidates, totalling 1200 fits\n"
     ]
    },
    {
     "name": "stderr",
     "output_type": "stream",
     "text": [
      "[Parallel(n_jobs=-1)]: Using backend LokyBackend with 12 concurrent workers.\n",
      "[Parallel(n_jobs=-1)]: Done  17 tasks      | elapsed:   45.5s\n",
      "[Parallel(n_jobs=-1)]: Done 138 tasks      | elapsed: 13.9min\n"
     ]
    },
    {
     "ename": "KeyboardInterrupt",
     "evalue": "",
     "output_type": "error",
     "traceback": [
      "\u001b[0;31m---------------------------------------------------------------------------\u001b[0m",
      "\u001b[0;31mKeyboardInterrupt\u001b[0m                         Traceback (most recent call last)",
      "\u001b[0;32m<ipython-input-101-579edbd05d8b>\u001b[0m in \u001b[0;36m<module>\u001b[0;34m\u001b[0m\n\u001b[0;32m----> 1\u001b[0;31m \u001b[0mxgb_grid\u001b[0m\u001b[0;34m.\u001b[0m\u001b[0mfit\u001b[0m\u001b[0;34m(\u001b[0m\u001b[0mX_train_clean\u001b[0m\u001b[0;34m,\u001b[0m \u001b[0my_train\u001b[0m\u001b[0;34m.\u001b[0m\u001b[0mvalues\u001b[0m\u001b[0;34m.\u001b[0m\u001b[0mravel\u001b[0m\u001b[0;34m(\u001b[0m\u001b[0;34m)\u001b[0m\u001b[0;34m)\u001b[0m\u001b[0;34m\u001b[0m\u001b[0;34m\u001b[0m\u001b[0m\n\u001b[0m",
      "\u001b[0;32m~/miniconda3/lib/python3.7/site-packages/sklearn/model_selection/_search.py\u001b[0m in \u001b[0;36mfit\u001b[0;34m(self, X, y, groups, **fit_params)\u001b[0m\n\u001b[1;32m    708\u001b[0m                 \u001b[0;32mreturn\u001b[0m \u001b[0mresults\u001b[0m\u001b[0;34m\u001b[0m\u001b[0;34m\u001b[0m\u001b[0m\n\u001b[1;32m    709\u001b[0m \u001b[0;34m\u001b[0m\u001b[0m\n\u001b[0;32m--> 710\u001b[0;31m             \u001b[0mself\u001b[0m\u001b[0;34m.\u001b[0m\u001b[0m_run_search\u001b[0m\u001b[0;34m(\u001b[0m\u001b[0mevaluate_candidates\u001b[0m\u001b[0;34m)\u001b[0m\u001b[0;34m\u001b[0m\u001b[0;34m\u001b[0m\u001b[0m\n\u001b[0m\u001b[1;32m    711\u001b[0m \u001b[0;34m\u001b[0m\u001b[0m\n\u001b[1;32m    712\u001b[0m         \u001b[0;31m# For multi-metric evaluation, store the best_index_, best_params_ and\u001b[0m\u001b[0;34m\u001b[0m\u001b[0;34m\u001b[0m\u001b[0;34m\u001b[0m\u001b[0m\n",
      "\u001b[0;32m~/miniconda3/lib/python3.7/site-packages/sklearn/model_selection/_search.py\u001b[0m in \u001b[0;36m_run_search\u001b[0;34m(self, evaluate_candidates)\u001b[0m\n\u001b[1;32m   1149\u001b[0m     \u001b[0;32mdef\u001b[0m \u001b[0m_run_search\u001b[0m\u001b[0;34m(\u001b[0m\u001b[0mself\u001b[0m\u001b[0;34m,\u001b[0m \u001b[0mevaluate_candidates\u001b[0m\u001b[0;34m)\u001b[0m\u001b[0;34m:\u001b[0m\u001b[0;34m\u001b[0m\u001b[0;34m\u001b[0m\u001b[0m\n\u001b[1;32m   1150\u001b[0m         \u001b[0;34m\"\"\"Search all candidates in param_grid\"\"\"\u001b[0m\u001b[0;34m\u001b[0m\u001b[0;34m\u001b[0m\u001b[0m\n\u001b[0;32m-> 1151\u001b[0;31m         \u001b[0mevaluate_candidates\u001b[0m\u001b[0;34m(\u001b[0m\u001b[0mParameterGrid\u001b[0m\u001b[0;34m(\u001b[0m\u001b[0mself\u001b[0m\u001b[0;34m.\u001b[0m\u001b[0mparam_grid\u001b[0m\u001b[0;34m)\u001b[0m\u001b[0;34m)\u001b[0m\u001b[0;34m\u001b[0m\u001b[0;34m\u001b[0m\u001b[0m\n\u001b[0m\u001b[1;32m   1152\u001b[0m \u001b[0;34m\u001b[0m\u001b[0m\n\u001b[1;32m   1153\u001b[0m \u001b[0;34m\u001b[0m\u001b[0m\n",
      "\u001b[0;32m~/miniconda3/lib/python3.7/site-packages/sklearn/model_selection/_search.py\u001b[0m in \u001b[0;36mevaluate_candidates\u001b[0;34m(candidate_params)\u001b[0m\n\u001b[1;32m    687\u001b[0m                                \u001b[0;32mfor\u001b[0m \u001b[0mparameters\u001b[0m\u001b[0;34m,\u001b[0m \u001b[0;34m(\u001b[0m\u001b[0mtrain\u001b[0m\u001b[0;34m,\u001b[0m \u001b[0mtest\u001b[0m\u001b[0;34m)\u001b[0m\u001b[0;34m\u001b[0m\u001b[0;34m\u001b[0m\u001b[0m\n\u001b[1;32m    688\u001b[0m                                in product(candidate_params,\n\u001b[0;32m--> 689\u001b[0;31m                                           cv.split(X, y, groups)))\n\u001b[0m\u001b[1;32m    690\u001b[0m \u001b[0;34m\u001b[0m\u001b[0m\n\u001b[1;32m    691\u001b[0m                 \u001b[0;32mif\u001b[0m \u001b[0mlen\u001b[0m\u001b[0;34m(\u001b[0m\u001b[0mout\u001b[0m\u001b[0;34m)\u001b[0m \u001b[0;34m<\u001b[0m \u001b[0;36m1\u001b[0m\u001b[0;34m:\u001b[0m\u001b[0;34m\u001b[0m\u001b[0;34m\u001b[0m\u001b[0m\n",
      "\u001b[0;32m~/miniconda3/lib/python3.7/site-packages/joblib/parallel.py\u001b[0m in \u001b[0;36m__call__\u001b[0;34m(self, iterable)\u001b[0m\n\u001b[1;32m   1040\u001b[0m \u001b[0;34m\u001b[0m\u001b[0m\n\u001b[1;32m   1041\u001b[0m             \u001b[0;32mwith\u001b[0m \u001b[0mself\u001b[0m\u001b[0;34m.\u001b[0m\u001b[0m_backend\u001b[0m\u001b[0;34m.\u001b[0m\u001b[0mretrieval_context\u001b[0m\u001b[0;34m(\u001b[0m\u001b[0;34m)\u001b[0m\u001b[0;34m:\u001b[0m\u001b[0;34m\u001b[0m\u001b[0;34m\u001b[0m\u001b[0m\n\u001b[0;32m-> 1042\u001b[0;31m                 \u001b[0mself\u001b[0m\u001b[0;34m.\u001b[0m\u001b[0mretrieve\u001b[0m\u001b[0;34m(\u001b[0m\u001b[0;34m)\u001b[0m\u001b[0;34m\u001b[0m\u001b[0;34m\u001b[0m\u001b[0m\n\u001b[0m\u001b[1;32m   1043\u001b[0m             \u001b[0;31m# Make sure that we get a last message telling us we are done\u001b[0m\u001b[0;34m\u001b[0m\u001b[0;34m\u001b[0m\u001b[0;34m\u001b[0m\u001b[0m\n\u001b[1;32m   1044\u001b[0m             \u001b[0melapsed_time\u001b[0m \u001b[0;34m=\u001b[0m \u001b[0mtime\u001b[0m\u001b[0;34m.\u001b[0m\u001b[0mtime\u001b[0m\u001b[0;34m(\u001b[0m\u001b[0;34m)\u001b[0m \u001b[0;34m-\u001b[0m \u001b[0mself\u001b[0m\u001b[0;34m.\u001b[0m\u001b[0m_start_time\u001b[0m\u001b[0;34m\u001b[0m\u001b[0;34m\u001b[0m\u001b[0m\n",
      "\u001b[0;32m~/miniconda3/lib/python3.7/site-packages/joblib/parallel.py\u001b[0m in \u001b[0;36mretrieve\u001b[0;34m(self)\u001b[0m\n\u001b[1;32m    919\u001b[0m             \u001b[0;32mtry\u001b[0m\u001b[0;34m:\u001b[0m\u001b[0;34m\u001b[0m\u001b[0;34m\u001b[0m\u001b[0m\n\u001b[1;32m    920\u001b[0m                 \u001b[0;32mif\u001b[0m \u001b[0mgetattr\u001b[0m\u001b[0;34m(\u001b[0m\u001b[0mself\u001b[0m\u001b[0;34m.\u001b[0m\u001b[0m_backend\u001b[0m\u001b[0;34m,\u001b[0m \u001b[0;34m'supports_timeout'\u001b[0m\u001b[0;34m,\u001b[0m \u001b[0;32mFalse\u001b[0m\u001b[0;34m)\u001b[0m\u001b[0;34m:\u001b[0m\u001b[0;34m\u001b[0m\u001b[0;34m\u001b[0m\u001b[0m\n\u001b[0;32m--> 921\u001b[0;31m                     \u001b[0mself\u001b[0m\u001b[0;34m.\u001b[0m\u001b[0m_output\u001b[0m\u001b[0;34m.\u001b[0m\u001b[0mextend\u001b[0m\u001b[0;34m(\u001b[0m\u001b[0mjob\u001b[0m\u001b[0;34m.\u001b[0m\u001b[0mget\u001b[0m\u001b[0;34m(\u001b[0m\u001b[0mtimeout\u001b[0m\u001b[0;34m=\u001b[0m\u001b[0mself\u001b[0m\u001b[0;34m.\u001b[0m\u001b[0mtimeout\u001b[0m\u001b[0;34m)\u001b[0m\u001b[0;34m)\u001b[0m\u001b[0;34m\u001b[0m\u001b[0;34m\u001b[0m\u001b[0m\n\u001b[0m\u001b[1;32m    922\u001b[0m                 \u001b[0;32melse\u001b[0m\u001b[0;34m:\u001b[0m\u001b[0;34m\u001b[0m\u001b[0;34m\u001b[0m\u001b[0m\n\u001b[1;32m    923\u001b[0m                     \u001b[0mself\u001b[0m\u001b[0;34m.\u001b[0m\u001b[0m_output\u001b[0m\u001b[0;34m.\u001b[0m\u001b[0mextend\u001b[0m\u001b[0;34m(\u001b[0m\u001b[0mjob\u001b[0m\u001b[0;34m.\u001b[0m\u001b[0mget\u001b[0m\u001b[0;34m(\u001b[0m\u001b[0;34m)\u001b[0m\u001b[0;34m)\u001b[0m\u001b[0;34m\u001b[0m\u001b[0;34m\u001b[0m\u001b[0m\n",
      "\u001b[0;32m~/miniconda3/lib/python3.7/site-packages/joblib/_parallel_backends.py\u001b[0m in \u001b[0;36mwrap_future_result\u001b[0;34m(future, timeout)\u001b[0m\n\u001b[1;32m    540\u001b[0m         AsyncResults.get from multiprocessing.\"\"\"\n\u001b[1;32m    541\u001b[0m         \u001b[0;32mtry\u001b[0m\u001b[0;34m:\u001b[0m\u001b[0;34m\u001b[0m\u001b[0;34m\u001b[0m\u001b[0m\n\u001b[0;32m--> 542\u001b[0;31m             \u001b[0;32mreturn\u001b[0m \u001b[0mfuture\u001b[0m\u001b[0;34m.\u001b[0m\u001b[0mresult\u001b[0m\u001b[0;34m(\u001b[0m\u001b[0mtimeout\u001b[0m\u001b[0;34m=\u001b[0m\u001b[0mtimeout\u001b[0m\u001b[0;34m)\u001b[0m\u001b[0;34m\u001b[0m\u001b[0;34m\u001b[0m\u001b[0m\n\u001b[0m\u001b[1;32m    543\u001b[0m         \u001b[0;32mexcept\u001b[0m \u001b[0mCfTimeoutError\u001b[0m \u001b[0;32mas\u001b[0m \u001b[0me\u001b[0m\u001b[0;34m:\u001b[0m\u001b[0;34m\u001b[0m\u001b[0;34m\u001b[0m\u001b[0m\n\u001b[1;32m    544\u001b[0m             \u001b[0;32mraise\u001b[0m \u001b[0mTimeoutError\u001b[0m \u001b[0;32mfrom\u001b[0m \u001b[0me\u001b[0m\u001b[0;34m\u001b[0m\u001b[0;34m\u001b[0m\u001b[0m\n",
      "\u001b[0;32m~/miniconda3/lib/python3.7/concurrent/futures/_base.py\u001b[0m in \u001b[0;36mresult\u001b[0;34m(self, timeout)\u001b[0m\n\u001b[1;32m    428\u001b[0m                 \u001b[0;32mreturn\u001b[0m \u001b[0mself\u001b[0m\u001b[0;34m.\u001b[0m\u001b[0m__get_result\u001b[0m\u001b[0;34m(\u001b[0m\u001b[0;34m)\u001b[0m\u001b[0;34m\u001b[0m\u001b[0;34m\u001b[0m\u001b[0m\n\u001b[1;32m    429\u001b[0m \u001b[0;34m\u001b[0m\u001b[0m\n\u001b[0;32m--> 430\u001b[0;31m             \u001b[0mself\u001b[0m\u001b[0;34m.\u001b[0m\u001b[0m_condition\u001b[0m\u001b[0;34m.\u001b[0m\u001b[0mwait\u001b[0m\u001b[0;34m(\u001b[0m\u001b[0mtimeout\u001b[0m\u001b[0;34m)\u001b[0m\u001b[0;34m\u001b[0m\u001b[0;34m\u001b[0m\u001b[0m\n\u001b[0m\u001b[1;32m    431\u001b[0m \u001b[0;34m\u001b[0m\u001b[0m\n\u001b[1;32m    432\u001b[0m             \u001b[0;32mif\u001b[0m \u001b[0mself\u001b[0m\u001b[0;34m.\u001b[0m\u001b[0m_state\u001b[0m \u001b[0;32min\u001b[0m \u001b[0;34m[\u001b[0m\u001b[0mCANCELLED\u001b[0m\u001b[0;34m,\u001b[0m \u001b[0mCANCELLED_AND_NOTIFIED\u001b[0m\u001b[0;34m]\u001b[0m\u001b[0;34m:\u001b[0m\u001b[0;34m\u001b[0m\u001b[0;34m\u001b[0m\u001b[0m\n",
      "\u001b[0;32m~/miniconda3/lib/python3.7/threading.py\u001b[0m in \u001b[0;36mwait\u001b[0;34m(self, timeout)\u001b[0m\n\u001b[1;32m    294\u001b[0m         \u001b[0;32mtry\u001b[0m\u001b[0;34m:\u001b[0m    \u001b[0;31m# restore state no matter what (e.g., KeyboardInterrupt)\u001b[0m\u001b[0;34m\u001b[0m\u001b[0;34m\u001b[0m\u001b[0m\n\u001b[1;32m    295\u001b[0m             \u001b[0;32mif\u001b[0m \u001b[0mtimeout\u001b[0m \u001b[0;32mis\u001b[0m \u001b[0;32mNone\u001b[0m\u001b[0;34m:\u001b[0m\u001b[0;34m\u001b[0m\u001b[0;34m\u001b[0m\u001b[0m\n\u001b[0;32m--> 296\u001b[0;31m                 \u001b[0mwaiter\u001b[0m\u001b[0;34m.\u001b[0m\u001b[0macquire\u001b[0m\u001b[0;34m(\u001b[0m\u001b[0;34m)\u001b[0m\u001b[0;34m\u001b[0m\u001b[0;34m\u001b[0m\u001b[0m\n\u001b[0m\u001b[1;32m    297\u001b[0m                 \u001b[0mgotit\u001b[0m \u001b[0;34m=\u001b[0m \u001b[0;32mTrue\u001b[0m\u001b[0;34m\u001b[0m\u001b[0;34m\u001b[0m\u001b[0m\n\u001b[1;32m    298\u001b[0m             \u001b[0;32melse\u001b[0m\u001b[0;34m:\u001b[0m\u001b[0;34m\u001b[0m\u001b[0;34m\u001b[0m\u001b[0m\n",
      "\u001b[0;31mKeyboardInterrupt\u001b[0m: "
     ]
    }
   ],
   "source": [
    "xgb_grid.fit(X_train_clean, y_train.values.ravel())"
   ]
  },
  {
   "cell_type": "code",
   "execution_count": 110,
   "metadata": {},
   "outputs": [],
   "source": [
    "def fit_and_report_clf(clf, param_grid, X, y):\n",
    "\n",
    "    start = time.time()\n",
    "    classifier = clf.__class__.__name__\n",
    "    grid = GridSearchCV(estimator=clf, param_grid=param_grid, scoring='roc_auc', cv=5)\n",
    "    print(classifier)\n",
    "    grid.fit(X, y)\n",
    "    end = time.time()\n",
    "    duration = round(end-start, 2)\n",
    "\n",
    "    print(\"\\tSeconds: {}\".format(duration))\n",
    "    print(\"\\tScore: {}\".format(round(grid.best_score_, 4)))\n",
    "    \n",
    "    return grid.best_score_, grid.best_estimator_, duration"
   ]
  },
  {
   "cell_type": "code",
   "execution_count": 112,
   "metadata": {},
   "outputs": [
    {
     "name": "stdout",
     "output_type": "stream",
     "text": [
      "XGBClassifier\n",
      "\tSeconds: 116.45\n",
      "\tScore: 0.5341\n"
     ]
    },
    {
     "data": {
      "text/plain": [
       "(0.5341033620507727,\n",
       " XGBClassifier(base_score=0.5, booster='gbtree', colsample_bylevel=1,\n",
       "               colsample_bynode=1, colsample_bytree=1, gamma=0, gpu_id=-1,\n",
       "               importance_type='gain', interaction_constraints='',\n",
       "               learning_rate=0.300000012, max_delta_step=0, max_depth=6,\n",
       "               min_child_weight=1, missing=nan, monotone_constraints='()',\n",
       "               n_estimators=100, n_jobs=-1, num_parallel_tree=1,\n",
       "               objective='binary:logistic', random_state=60611, reg_alpha=0,\n",
       "               reg_lambda=1, scale_pos_weight=1, subsample=1,\n",
       "               tree_method='exact', validate_parameters=1, verbosity=None),\n",
       " 116.45)"
      ]
     },
     "execution_count": 112,
     "metadata": {},
     "output_type": "execute_result"
    }
   ],
   "source": [
    "fit_and_report_clf(xgb.XGBClassifier(random_state=seed, n_jobs=-1), {}, X_train_clean, y_train.values.ravel())"
   ]
  },
  {
   "cell_type": "code",
   "execution_count": null,
   "metadata": {},
   "outputs": [],
   "source": [
    "model"
   ]
  }
 ],
 "metadata": {
  "kernelspec": {
   "display_name": "Python 3",
   "language": "python",
   "name": "python3"
  },
  "language_info": {
   "codemirror_mode": {
    "name": "ipython",
    "version": 3
   },
   "file_extension": ".py",
   "mimetype": "text/x-python",
   "name": "python",
   "nbconvert_exporter": "python",
   "pygments_lexer": "ipython3",
   "version": "3.7.7"
  }
 },
 "nbformat": 4,
 "nbformat_minor": 4
}
