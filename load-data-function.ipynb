{
 "cells": [
  {
   "cell_type": "code",
   "execution_count": 2,
   "metadata": {},
   "outputs": [],
   "source": [
    "def load_data(ignore_clean_cache=False):\n",
    "    \"\"\"\n",
    "    Loads data from either source csv or from cleaned cache. Six (6) files\n",
    "    are expected\n",
    "        * data/arvato_data/Udacity_AZDIAS_052018.csv\n",
    "        * data/arvato_data/Udacity_CUSTOMERS_052018.csv\n",
    "        * data/arvato_data/Udacity_MAILOUT_052018_TEST.csv\n",
    "        * data/arvato_data/Udacity_MAILOUT_052018_TRAIN.csv\n",
    "        \n",
    "        * data/DIAS Attributes - Values 2017.xslx\n",
    "        * data/DIAS Information Levels - Attributes 2017.xslx\n",
    "        \n",
    "    Arguments:\n",
    "        ignore_clean_cache: reloads raw data, even if clean cache exists\n",
    "    \n",
    "    Returns:\n",
    "        azdias, customer, mailout_test, mailout_train, mailout_test, attributes, information\n",
    "    \"\"\"\n",
    "    \n",
    "    pass"
   ]
  },
  {
   "cell_type": "code",
   "execution_count": 3,
   "metadata": {},
   "outputs": [],
   "source": [
    "def clean_data(df, attributes):\n",
    "    \"\"\"\n",
    "    Cleans dataframe for exploration\n",
    "    \n",
    "    Arguments:\n",
    "        df: The dataframe to be cleaned\n",
    "        attributes: The attributes dataframe\n",
    "    \n",
    "    Returns:\n",
    "        DataFrame: Cleaned data\n",
    "    \"\"\"\n",
    "    pass"
   ]
  },
  {
   "cell_type": "code",
   "execution_count": null,
   "metadata": {},
   "outputs": [],
   "source": []
  }
 ],
 "metadata": {
  "kernelspec": {
   "display_name": "Python 3",
   "language": "python",
   "name": "python3"
  },
  "language_info": {
   "codemirror_mode": {
    "name": "ipython",
    "version": 3
   },
   "file_extension": ".py",
   "mimetype": "text/x-python",
   "name": "python",
   "nbconvert_exporter": "python",
   "pygments_lexer": "ipython3",
   "version": "3.7.7"
  }
 },
 "nbformat": 4,
 "nbformat_minor": 4
}
